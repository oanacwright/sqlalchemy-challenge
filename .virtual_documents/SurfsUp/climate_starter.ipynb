%matplotlib inline
from matplotlib import style
style.use('fivethirtyeight')
import matplotlib.pyplot as plt


import numpy as np
import pandas as pd
import datetime as dt





# Python SQL toolkit and Object Relational Mapper
import sqlalchemy
from sqlalchemy.ext.automap import automap_base
from sqlalchemy.orm import Session
from sqlalchemy import create_engine, func


# create engine to hawaii.sqlite
engine = create_engine("sqlite:///C:/Users/oanaw/sqlalchemy-challenge/Resources/hawaii.sqlite")


# reflect an existing database into a new model
Base = automap_base()
# reflect the tables
Base.prepare(autoload_with=engine)


# View all of the classes that automap found
Base.classes.keys()


# Save references to each table
station=Base.classes.station
measurement=Base.classes.measurement


# Create our session (link) from Python to the DB
session = Session(engine)





# Find the most recent date in the data set.
session.query(measurement.date).order_by(measurement.date.desc()).first()


# Design a query to retrieve the last 12 months of precipitation data and plot the results. 
# Starting from the most recent data point in the database. 

# Calculate the date one year from the last date in data set.
latest_year_start = dt.date(2017,8,23)-dt.timedelta(days=365) 

# Perform a query to retrieve the data and precipitation scores
latest_year_prcp = session.query(measurement.date,measurement.prcp).filter(measurement.date >= latest_year_start).all()

# Save the query results as a Pandas DataFrame. Explicitly set the column names
latest_year_prcp_df = pd.DataFrame(latest_year_prcp, columns=['date', 'precipitation'])

# Sort the dataframe by date
latest_year_prcp_df.sort_values("date",inplace=True)
 

# Use Pandas Plotting with Matplotlib to plot the data
latest_year_prcp_df.plot(x="date",y="precipitation",rot=90)
plt.show()


# Use Pandas to calculate the summary statistics for the precipitation data






# Design a query to calculate the total number of stations in the dataset



# Design a query to find the most active stations (i.e. which stations have the most rows?)
# List the stations and their counts in descending order.



# Using the most active station id from the previous query, calculate the lowest, highest, and average temperature.



# Using the most active station id
# Query the last 12 months of temperature observation data for this station and plot the results as a histogram






# Close Session
session.close()



